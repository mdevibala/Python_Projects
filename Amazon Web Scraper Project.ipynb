{
 "cells": [
  {
   "cell_type": "code",
   "execution_count": 1,
   "id": "109449e5",
   "metadata": {},
   "outputs": [],
   "source": [
    "# import libraries\n",
    "\n",
    "from bs4 import BeautifulSoup\n",
    "import datetime\n",
    "import time\n",
    "import requests\n",
    "\n",
    "import smtplib # send emails"
   ]
  },
  {
   "cell_type": "code",
   "execution_count": 2,
   "id": "10c38852",
   "metadata": {},
   "outputs": [
    {
     "name": "stdout",
     "output_type": "stream",
     "text": [
      "\n",
      "                   Womens Awesome Data Analyst V-Neck T-Shirt\n",
      "                  \n",
      "\n",
      "                    £13.99\n",
      "                   \n"
     ]
    }
   ],
   "source": [
    "# Connect to Website\n",
    "\n",
    "URL = 'https://www.amazon.co.uk/Womens-Awesome-Data-Analyst-T-Shirt/dp/B09CSBCDZZ/ref=sr_1_45?dchild=1&keywords=data+analyst+tshirt&qid=1629823170&sr=8-45'\n",
    "\n",
    "headers = {\"User-Agent\": \"Mozilla/5.0 (Windows NT 10.0; Win64; x64) AppleWebKit/537.36 (KHTML, like Gecko) Chrome/92.0.4515.159 Safari/537.36\", \"Accept-Encoding\":\"gzip, deflate\", \"Accept\":\"text/html,application/xhtml+xml,application/xml;q=0.9,*/*;q=0.8\", \"DNT\":\"1\",\"Connection\":\"close\", \"Upgrade-Insecure-Requests\":\"1\" }\n",
    "\n",
    "page = requests.get(URL, headers=headers)\n",
    "soup1 = BeautifulSoup(page.content, 'html.parser')\n",
    "soup2 = BeautifulSoup(soup1.prettify(), 'html.parser')\n",
    "title = soup2.find(id ='productTitle').get_text()\n",
    "price = soup2.find(id='priceblock_ourprice').get_text()\n",
    "\n",
    "print(title)\n",
    "print(price)"
   ]
  },
  {
   "cell_type": "code",
   "execution_count": 3,
   "id": "8b020fb5",
   "metadata": {
    "scrolled": true
   },
   "outputs": [
    {
     "name": "stdout",
     "output_type": "stream",
     "text": [
      "Womens Awesome Data Analyst V-Neck T-Shirt\n",
      "13.99\n"
     ]
    }
   ],
   "source": [
    "# Clean up the data\n",
    "\n",
    "price = price.strip()[1:]\n",
    "title = title.strip()\n",
    "print(title)\n",
    "print(price)"
   ]
  },
  {
   "cell_type": "code",
   "execution_count": 4,
   "id": "5ed4ac28",
   "metadata": {},
   "outputs": [
    {
     "name": "stdout",
     "output_type": "stream",
     "text": [
      "2021-08-24\n"
     ]
    }
   ],
   "source": [
    "# Create Time Stamp\n",
    "\n",
    "import datetime\n",
    "\n",
    "date = datetime.date.today()\n",
    "\n",
    "print(date)"
   ]
  },
  {
   "cell_type": "code",
   "execution_count": 5,
   "id": "03e22041",
   "metadata": {},
   "outputs": [
    {
     "name": "stdout",
     "output_type": "stream",
     "text": [
      "['Womens Awesome Data Analyst V-Neck T-Shirt', '13.99', datetime.date(2021, 8, 24)]\n"
     ]
    }
   ],
   "source": [
    "# Create CSV and write header and data into the file\n",
    "import csv\n",
    "\n",
    "header = ['Title', 'Price' , 'Date']\n",
    "data = [title, price, date]\n",
    "\n",
    "with open('AmazanWebScraper.csv', 'w', newline = '', encoding ='UTF8') as f:\n",
    "\n",
    "    writer = csv.writer(f)\n",
    "    writer.writerow(header)\n",
    "    writer.writerow(data)\n",
    "\n",
    "print(data)"
   ]
  },
  {
   "cell_type": "code",
   "execution_count": 6,
   "id": "69610fac",
   "metadata": {},
   "outputs": [
    {
     "name": "stdout",
     "output_type": "stream",
     "text": [
      "                                        Title  Price        Date\n",
      "0  Womens Awesome Data Analyst V-Neck T-Shirt  13.99  2021-08-24\n"
     ]
    }
   ],
   "source": [
    "# Read the csv file created\n",
    "\n",
    "import pandas as pd \n",
    "\n",
    "df = pd.read_csv('C:/Users/mdevi/AmazanWebScraper.csv')\n",
    "print(df)"
   ]
  },
  {
   "cell_type": "code",
   "execution_count": 7,
   "id": "f4aec507",
   "metadata": {},
   "outputs": [],
   "source": [
    "# Append the data in the dataset 'df'\n",
    "\n",
    "with open('AmazanWebScraper.csv' , 'a+', newline='', encoding='UTF8') as f:\n",
    "    writer = csv.writer(f)\n",
    "    writer.writerow(data)"
   ]
  },
  {
   "cell_type": "code",
   "execution_count": 8,
   "id": "991aae96",
   "metadata": {},
   "outputs": [],
   "source": [
    "# Combine all the above code\n",
    "\n",
    "def check_price():\n",
    "\n",
    "    URL = 'https://www.amazon.co.uk/Womens-Awesome-Data-Analyst-T-Shirt/dp/B09CSBCDZZ/ref=sr_1_45?dchild=1&keywords=data+analyst+tshirt&qid=1629823170&sr=8-45'\n",
    "\n",
    "    headers = {\"User-Agent\": \"Mozilla/5.0 (Windows NT 10.0; Win64; x64) AppleWebKit/537.36 (KHTML, like Gecko) Chrome/92.0.4515.159 Safari/537.36\", \"Accept-Encoding\":\"gzip, deflate\", \"Accept\":\"text/html,application/xhtml+xml,application/xml;q=0.9,*/*;q=0.8\", \"DNT\":\"1\",\"Connection\":\"close\", \"Upgrade-Insecure-Requests\":\"1\" }\n",
    "\n",
    "    page = requests.get(URL, headers=headers)\n",
    "    soup1 = BeautifulSoup(page.content, 'html.parser')\n",
    "    soup2 = BeautifulSoup(soup1.prettify(), 'html.parser')\n",
    "    title = soup2.find(id ='productTitle').get_text()\n",
    "    price = soup2.find(id='priceblock_ourprice').get_text()\n",
    "\n",
    "    price = price.strip()[1:]\n",
    "    title = title.strip()\n",
    "    print(title)\n",
    "    print(price)\n",
    "    \n",
    "    import datetime\n",
    "\n",
    "    date = datetime.date.today()\n",
    "\n",
    "    print(date)\n",
    "    import csv\n",
    "\n",
    "    header = ['Title', 'Price' , 'Date']\n",
    "    data = [title, price, date]\n",
    "\n",
    "    #with open('AmazanWebScraper.csv', 'w', newline = '', encoding ='UTF8') as f:\n",
    "\n",
    "       # writer = csv.writer(f)\n",
    "       # writer.writerow(header)\n",
    "       # writer.writerow(data)\n",
    "    \n",
    "    import pandas as pd \n",
    "\n",
    "    df = pd.read_csv('C:/Users/mdevi/AmazanWebScraper.csv')\n",
    "    print(df)\n",
    "    \n",
    "    with open('AmazanWebScraper.csv' , 'a+', newline='', encoding='UTF8') as f:\n",
    "        writer = csv.writer(f)\n",
    "        writer.writerow(data)\n"
   ]
  },
  {
   "cell_type": "code",
   "execution_count": null,
   "id": "eda6f6df",
   "metadata": {},
   "outputs": [],
   "source": [
    "# Run check_price() at a specified time interval\n",
    "\n",
    "while(True):\n",
    "    check_price()\n",
    "    time.sleep(5)\n",
    "    \n",
    "    if price>10\n",
    "    send_email()"
   ]
  },
  {
   "cell_type": "code",
   "execution_count": null,
   "id": "842f430b",
   "metadata": {},
   "outputs": [],
   "source": [
    "import pandas as pd\n",
    "\n",
    "df = pd.read_csv('C:/Users/mdevi/AmazanWebScraper.csv')\n",
    "print(df)\n",
    "    "
   ]
  },
  {
   "cell_type": "code",
   "execution_count": null,
   "id": "d14f200c",
   "metadata": {},
   "outputs": [],
   "source": [
    "# Function to send email\n",
    "\n",
    "def send_mail():\n",
    "    server = smtplib.SMTP_SSL('smtp.gmail.com',465)\n",
    "    server.ehlo()\n",
    "    #server.starttls()\n",
    "    server.ehlo()\n",
    "    server.login('mdevibala@gmail.com','XXXXX')\n",
    "    \n",
    "    subject = \"Alert: Amazon Price drop!\"\n",
    "    body = \"Devi, This is the moment we have been waiting for. Now is your chance to pick up the shirt of your dreams. Don't mess it up! Link here: https://www.amazon.co.uk/Womens-Awesome-Data-Analyst-T-Shirt/dp/B09CSBCDZZ/ref=sr_1_45?dchild=1&keywords=data+analyst+tshirt&qid=1629823170&sr=8-45\"\n",
    "   \n",
    "    msg = f\"Subject: {subject}\\n\\n{body}\"\n",
    "    \n",
    "    server.sendmail(\n",
    "        'mdevibala@gmail.com',\n",
    "        msg\n",
    "    )"
   ]
  },
  {
   "cell_type": "code",
   "execution_count": null,
   "id": "35df54ab",
   "metadata": {},
   "outputs": [],
   "source": []
  }
 ],
 "metadata": {
  "kernelspec": {
   "display_name": "Python 3",
   "language": "python",
   "name": "python3"
  },
  "language_info": {
   "codemirror_mode": {
    "name": "ipython",
    "version": 3
   },
   "file_extension": ".py",
   "mimetype": "text/x-python",
   "name": "python",
   "nbconvert_exporter": "python",
   "pygments_lexer": "ipython3",
   "version": "3.8.8"
  }
 },
 "nbformat": 4,
 "nbformat_minor": 5
}
